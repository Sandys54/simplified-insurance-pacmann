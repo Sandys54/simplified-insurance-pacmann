{
 "cells": [
  {
   "cell_type": "markdown",
   "id": "9cadea70",
   "metadata": {},
   "source": [
    "# Final project Probability - Sandy Sanjaya Awaluddin\n",
    "\n",
    "The project aims to analyze variables related to cmedical charges of insuree. There are 5 features provided: age, sex, location, number of children, BMI, and smoking informations."
   ]
  },
  {
   "cell_type": "code",
   "execution_count": 10,
   "id": "a92609e4",
   "metadata": {},
   "outputs": [],
   "source": [
    "import pandas as pd\n",
    "import numpy as np\n",
    "import scipy.stats as stat\n",
    "\n",
    "import matplotlib.pyplot as plt\n",
    "from matplotlib import rcParams\n",
    "import seaborn as sns\n",
    "\n",
    "# apply some cool styling\n",
    "plt.style.use(\"ggplot\")\n",
    "rcParams['figure.figsize'] = (12,  6)"
   ]
  },
  {
   "cell_type": "markdown",
   "id": "a692e495",
   "metadata": {},
   "source": [
    "# Sanity check \n",
    "Data is obtained from Pacmann course. Sanity check is done in checking the integrity of data specifically on NaN values, duplicates, and distribution"
   ]
  },
  {
   "cell_type": "code",
   "execution_count": 3,
   "id": "5ba37628",
   "metadata": {},
   "outputs": [
    {
     "name": "stdout",
     "output_type": "stream",
     "text": [
      "Number of rows = 1338\n",
      "Number of columns = 7\n",
      "<class 'pandas.core.frame.DataFrame'>\n",
      "RangeIndex: 1338 entries, 0 to 1337\n",
      "Data columns (total 7 columns):\n",
      " #   Column    Non-Null Count  Dtype  \n",
      "---  ------    --------------  -----  \n",
      " 0   age       1338 non-null   int64  \n",
      " 1   sex       1338 non-null   object \n",
      " 2   bmi       1338 non-null   float64\n",
      " 3   children  1338 non-null   int64  \n",
      " 4   smoker    1338 non-null   object \n",
      " 5   region    1338 non-null   object \n",
      " 6   charges   1338 non-null   float64\n",
      "dtypes: float64(2), int64(2), object(3)\n",
      "memory usage: 73.3+ KB\n"
     ]
    }
   ],
   "source": [
    "# Read the csv file\n",
    "df = pd.read_csv('insurance.csv')\n",
    "\n",
    "# Check for dimension and size \n",
    "print(\"Number of rows = \" + str(df.shape[0]))\n",
    "print(\"Number of columns = \" + str(df.shape[1]))\n",
    "\n",
    "# Check for NaN Value \n",
    "df.info()"
   ]
  },
  {
   "cell_type": "markdown",
   "id": "27719a50",
   "metadata": {},
   "source": [
    "From the code above, we can see that there are null values or empty row in the DataFrame. \n",
    "The duplicates are later checked as follows"
   ]
  },
  {
   "cell_type": "markdown",
   "id": "69f23fc7",
   "metadata": {},
   "source": [
    "## Duplicates Check"
   ]
  },
  {
   "cell_type": "code",
   "execution_count": 4,
   "id": "aee5319d",
   "metadata": {
    "scrolled": true
   },
   "outputs": [
    {
     "data": {
      "text/html": [
       "<div>\n",
       "<style scoped>\n",
       "    .dataframe tbody tr th:only-of-type {\n",
       "        vertical-align: middle;\n",
       "    }\n",
       "\n",
       "    .dataframe tbody tr th {\n",
       "        vertical-align: top;\n",
       "    }\n",
       "\n",
       "    .dataframe thead th {\n",
       "        text-align: right;\n",
       "    }\n",
       "</style>\n",
       "<table border=\"1\" class=\"dataframe\">\n",
       "  <thead>\n",
       "    <tr style=\"text-align: right;\">\n",
       "      <th></th>\n",
       "      <th>age</th>\n",
       "      <th>sex</th>\n",
       "      <th>bmi</th>\n",
       "      <th>children</th>\n",
       "      <th>smoker</th>\n",
       "      <th>region</th>\n",
       "      <th>charges</th>\n",
       "    </tr>\n",
       "  </thead>\n",
       "  <tbody>\n",
       "    <tr>\n",
       "      <th>581</th>\n",
       "      <td>19</td>\n",
       "      <td>male</td>\n",
       "      <td>30.59</td>\n",
       "      <td>0</td>\n",
       "      <td>no</td>\n",
       "      <td>northwest</td>\n",
       "      <td>1639.5631</td>\n",
       "    </tr>\n",
       "  </tbody>\n",
       "</table>\n",
       "</div>"
      ],
      "text/plain": [
       "     age   sex    bmi  children smoker     region    charges\n",
       "581   19  male  30.59         0     no  northwest  1639.5631"
      ]
     },
     "execution_count": 4,
     "metadata": {},
     "output_type": "execute_result"
    }
   ],
   "source": [
    "df[df.duplicated()]"
   ]
  },
  {
   "cell_type": "markdown",
   "id": "c02a5151",
   "metadata": {},
   "source": [
    "The data seem to have a duplicate in one of the rows. This significies the importance of having ID number in surveys and data acquisitions. Understanding there's only one duplicate row out of 1338 rows, the data is kept since it is deemed insignificant to the overaching trends"
   ]
  },
  {
   "cell_type": "markdown",
   "id": "0889361e",
   "metadata": {},
   "source": [
    "# 1. Analisa Descriptive Statistic"
   ]
  },
  {
   "cell_type": "code",
   "execution_count": 5,
   "id": "9bed6460",
   "metadata": {},
   "outputs": [],
   "source": [
    "df_active = df[df['smoker']=='yes']\n",
    "df_inactive = df[df['smoker']=='no']"
   ]
  },
  {
   "cell_type": "markdown",
   "id": "1e2f43e9",
   "metadata": {},
   "source": [
    "Question to answer:\n",
    "1. Rata-rata umur pengguna\n",
    "2. Rata-rata nilai BMI dari pengguna yang merokok\n",
    "3. Berapa rata rata umur pada data tersebut?\n",
    "4. Berapa rata rata nilai BMI dari yang merokok?\n",
    "5. Apakah variansi dari data charges perokok dan non perokok sama?\n",
    "6. Apakah rata rata umur perempuan dan laki-laki yang merokok sama?\n",
    "7. Mana yang lebih tinggi, rata rata tagihan kesehatan perokok atau non merokok?\n",
    "8. Mana yang lebih tinggi, rata rata tagihan kesehatan perokok yang BMI nya diatas 25\n",
    "atau non perokok yang BMI nya diatas 25\n",
    "9. BMI mana yang lebih tinggi, seseorang laki-laki atau perempuan?\n",
    "10. BMI mana yang lebih tinggi, seseorang perokok atau non perokok?"
   ]
  },
  {
   "cell_type": "code",
   "execution_count": 6,
   "id": "c9e01bc6",
   "metadata": {
    "scrolled": true
   },
   "outputs": [
    {
     "data": {
      "text/html": [
       "<div>\n",
       "<style scoped>\n",
       "    .dataframe tbody tr th:only-of-type {\n",
       "        vertical-align: middle;\n",
       "    }\n",
       "\n",
       "    .dataframe tbody tr th {\n",
       "        vertical-align: top;\n",
       "    }\n",
       "\n",
       "    .dataframe thead th {\n",
       "        text-align: right;\n",
       "    }\n",
       "</style>\n",
       "<table border=\"1\" class=\"dataframe\">\n",
       "  <thead>\n",
       "    <tr style=\"text-align: right;\">\n",
       "      <th></th>\n",
       "      <th>age</th>\n",
       "      <th>sex</th>\n",
       "      <th>bmi</th>\n",
       "      <th>children</th>\n",
       "      <th>smoker</th>\n",
       "      <th>region</th>\n",
       "      <th>charges</th>\n",
       "    </tr>\n",
       "  </thead>\n",
       "  <tbody>\n",
       "    <tr>\n",
       "      <th>0</th>\n",
       "      <td>19</td>\n",
       "      <td>female</td>\n",
       "      <td>27.900</td>\n",
       "      <td>0</td>\n",
       "      <td>yes</td>\n",
       "      <td>southwest</td>\n",
       "      <td>16884.92400</td>\n",
       "    </tr>\n",
       "    <tr>\n",
       "      <th>1</th>\n",
       "      <td>18</td>\n",
       "      <td>male</td>\n",
       "      <td>33.770</td>\n",
       "      <td>1</td>\n",
       "      <td>no</td>\n",
       "      <td>southeast</td>\n",
       "      <td>1725.55230</td>\n",
       "    </tr>\n",
       "    <tr>\n",
       "      <th>2</th>\n",
       "      <td>28</td>\n",
       "      <td>male</td>\n",
       "      <td>33.000</td>\n",
       "      <td>3</td>\n",
       "      <td>no</td>\n",
       "      <td>southeast</td>\n",
       "      <td>4449.46200</td>\n",
       "    </tr>\n",
       "    <tr>\n",
       "      <th>3</th>\n",
       "      <td>33</td>\n",
       "      <td>male</td>\n",
       "      <td>22.705</td>\n",
       "      <td>0</td>\n",
       "      <td>no</td>\n",
       "      <td>northwest</td>\n",
       "      <td>21984.47061</td>\n",
       "    </tr>\n",
       "    <tr>\n",
       "      <th>4</th>\n",
       "      <td>32</td>\n",
       "      <td>male</td>\n",
       "      <td>28.880</td>\n",
       "      <td>0</td>\n",
       "      <td>no</td>\n",
       "      <td>northwest</td>\n",
       "      <td>3866.85520</td>\n",
       "    </tr>\n",
       "  </tbody>\n",
       "</table>\n",
       "</div>"
      ],
      "text/plain": [
       "   age     sex     bmi  children smoker     region      charges\n",
       "0   19  female  27.900         0    yes  southwest  16884.92400\n",
       "1   18    male  33.770         1     no  southeast   1725.55230\n",
       "2   28    male  33.000         3     no  southeast   4449.46200\n",
       "3   33    male  22.705         0     no  northwest  21984.47061\n",
       "4   32    male  28.880         0     no  northwest   3866.85520"
      ]
     },
     "execution_count": 6,
     "metadata": {},
     "output_type": "execute_result"
    }
   ],
   "source": [
    "df.head()"
   ]
  },
  {
   "cell_type": "code",
   "execution_count": 7,
   "id": "285115aa",
   "metadata": {},
   "outputs": [
    {
     "name": "stdout",
     "output_type": "stream",
     "text": [
      "1. Average Age of Active Smoker: 38.515\n",
      "2. Average BMI of Active Smoker: 30.708\n",
      "3. Average age in dataset: 39.207\n",
      "4. Question is similar to Question #2\n",
      "5. Variance of charges: smoker\n",
      "no     3.592542e+07\n",
      "yes    1.332073e+08\n",
      "Name: charges, dtype: float64\n",
      "Variance of smoker [yes] is higher tha non-smoker [no]\n",
      "6. Age of smoker per gender: sex\n",
      "female    38.608696\n",
      "male      38.446541\n",
      "Name: age, dtype: float64\n",
      "There is a small difference between the age of male/female smoker. It could potentially be an outlier which can be discovered by adding more data,but from the dataset, male smokers are younger than female smoker\n",
      "7. Charges per smoking habits: smoker\n",
      "yes    32050.231832\n",
      "Name: charges, dtype: float64\n",
      "8. Charges for active smoker with BMI>25 [35116.910] is higher than charges for non-smoker with BMI<25 [7515.709]\n",
      "9. Male has higher bmi than Female in the dataset: sex\n",
      "female    30.377749\n",
      "male      30.943129\n",
      "Name: bmi, dtype: float64\n",
      "10. Smoker and non-smoker have relatively similar bmi smoker\n",
      "no     30.651795\n",
      "yes    30.708449\n",
      "Name: bmi, dtype: float64\n"
     ]
    }
   ],
   "source": [
    "# Calculating the average age of active smoker\n",
    "avg_active_age = df.groupby('smoker')['age'].mean()['yes']\n",
    "print(\"1. Average Age of Active Smoker: \"+f'{avg_active_age:.3f}')\n",
    "\n",
    "# Calculating the average bmi of active smoker\n",
    "avg_active_bmi = df.groupby('smoker')['bmi'].mean()['yes']\n",
    "print(\"2. Average BMI of Active Smoker: \"+f'{avg_active_bmi:.3f}')\n",
    "\n",
    "# Calculating the average age \n",
    "avg_age = df['age'].mean()\n",
    "print(\"3. Average age in dataset: \"+f'{avg_age:.3f}')\n",
    "print(\"4. Question is similar to Question #2\")\n",
    "      \n",
    "# Calculating the variance of charges\n",
    "var_charges = df.groupby('smoker')['charges'].var()\n",
    "print(\"5. Variance of charges: \"+ str(var_charges))\n",
    "print(\"Variance of smoker [yes] is higher tha non-smoker [no]\")\n",
    "\n",
    "# Calculating average of of active smoker divided by gender\n",
    "avg_active_age_gender = df_active.groupby('sex')['age'].mean()\n",
    "print(\"6. Age of smoker per gender: \"+ str(avg_active_age_gender))\n",
    "print(\"There is a small difference between the age of male/female smoker.\"+\\\n",
    "      \" It could potentially be an outlier which can be discovered by adding more data,\"\\\n",
    "      \"but from the dataset, male smokers are younger than female smoker\")\n",
    "\n",
    "\n",
    "# Calculating average of chargs between smoker/non-smoker\n",
    "avg_charges_smoker = df_active.groupby('smoker')['charges'].mean()\n",
    "print(\"7. Charges per smoking habits: \"+ str(avg_charges_smoker))\n",
    "\n",
    "\n",
    "\n",
    "# Categorizing BMI \n",
    "df_bmi25 = df.copy()\n",
    "df_act_Hbmi25 = df[(df['smoker']=='yes') & (df['bmi']>25)]\n",
    "charge_act_Hbmi25 = df_act_Hbmi25['charges'].mean()\n",
    "df_pas_Lbmi25 = df[(df['smoker']=='no') & (df['bmi']<25)]\n",
    "charge_pas_Lbmi25 = df_pas_Lbmi25['charges'].mean()\n",
    "print(\"8. Charges for active smoker with BMI>25 [\"+f'{charge_act_Hbmi25:.3f}'\\\n",
    "      +\"] is higher than charges for non-smoker with BMI<25 [\"+f'{charge_pas_Lbmi25:.3f}'+']')\n",
    "\n",
    "# Calculating the bmi based on sex\n",
    "bmi_sex = df.groupby('sex')['bmi'].mean()\n",
    "print(\"9. Male has higher bmi than Female in the dataset: \"+ str(bmi_sex))\n",
    "\n",
    "# Calculating the bmi based on smoker/non-smoker\n",
    "bmi_smoker = df.groupby('smoker')['bmi'].mean()\n",
    "print(\"10. Smoker and non-smoker have relatively similar bmi \"+ str(bmi_smoker))\n",
    "\n",
    "\n"
   ]
  },
  {
   "cell_type": "markdown",
   "id": "571ce358",
   "metadata": {},
   "source": [
    "# 2. Analisa Variable Kategorik (PMF)"
   ]
  },
  {
   "cell_type": "markdown",
   "id": "46637438",
   "metadata": {},
   "source": [
    "Beberapa hal yang dapat Anda jawab adalah\n",
    "1. Gender mana yang memiliki tagihan paling tinggi?\n",
    "2. Distribusi peluang tagihan di tiap-tiap region\n",
    "3. Apakah setiap region memiliki proporsi data banyak orang yang sama?\n",
    "4. Mana yang lebih tinggi proporsi perokok atau non perokok?\n",
    "5. Berapa peluang seseorang tersebut adalah perempuan diketahui dia adalah perokok?\n",
    "6. Berapa peluang seseorang tersebut adalah laki-laki diketahui dia adalah perokok?\n",
    "7. Bagaimana bentuk distribusi peluang besar tagihan dari tiap-tiap region?"
   ]
  },
  {
   "cell_type": "code",
   "execution_count": 173,
   "id": "af91a699",
   "metadata": {},
   "outputs": [
    {
     "name": "stdout",
     "output_type": "stream",
     "text": [
      "1. Male have higher charges than Female sex\n",
      "female    12569.578844\n",
      "male      13956.751178\n",
      "Name: charges, dtype: float64\n"
     ]
    }
   ],
   "source": [
    "# Calculating the average age of active smoker\n",
    "gender_charges = df.groupby('sex')['charges'].mean()\n",
    "print(\"1. Male have higher charges than Female \"+str(gender_charges))"
   ]
  },
  {
   "cell_type": "code",
   "execution_count": 175,
   "id": "d9773caa",
   "metadata": {},
   "outputs": [
    {
     "name": "stdout",
     "output_type": "stream",
     "text": [
      "2. Distribution of charges across region region\n",
      "northeast    13406.384516\n",
      "northwest    12417.575374\n",
      "southeast    14735.411438\n",
      "southwest    12346.937377\n",
      "Name: charges, dtype: float64\n"
     ]
    }
   ],
   "source": [
    "# Calculating the average age of active smoker\n",
    "region_charges = df.groupby('region')['charges'].mean()\n",
    "print(\"2. Distribution of charges across region \"+str(region_charges))"
   ]
  },
  {
   "cell_type": "code",
   "execution_count": 181,
   "id": "d5f5e5ae",
   "metadata": {},
   "outputs": [
    {
     "name": "stdout",
     "output_type": "stream",
     "text": [
      "3. Number of people per region :\n"
     ]
    },
    {
     "data": {
      "text/html": [
       "<div>\n",
       "<style scoped>\n",
       "    .dataframe tbody tr th:only-of-type {\n",
       "        vertical-align: middle;\n",
       "    }\n",
       "\n",
       "    .dataframe tbody tr th {\n",
       "        vertical-align: top;\n",
       "    }\n",
       "\n",
       "    .dataframe thead th {\n",
       "        text-align: right;\n",
       "    }\n",
       "</style>\n",
       "<table border=\"1\" class=\"dataframe\">\n",
       "  <thead>\n",
       "    <tr style=\"text-align: right;\">\n",
       "      <th></th>\n",
       "      <th>region</th>\n",
       "      <th>count of people</th>\n",
       "    </tr>\n",
       "  </thead>\n",
       "  <tbody>\n",
       "    <tr>\n",
       "      <th>0</th>\n",
       "      <td>northeast</td>\n",
       "      <td>324</td>\n",
       "    </tr>\n",
       "    <tr>\n",
       "      <th>1</th>\n",
       "      <td>northwest</td>\n",
       "      <td>325</td>\n",
       "    </tr>\n",
       "    <tr>\n",
       "      <th>2</th>\n",
       "      <td>southeast</td>\n",
       "      <td>364</td>\n",
       "    </tr>\n",
       "    <tr>\n",
       "      <th>3</th>\n",
       "      <td>southwest</td>\n",
       "      <td>325</td>\n",
       "    </tr>\n",
       "  </tbody>\n",
       "</table>\n",
       "</div>"
      ],
      "text/plain": [
       "      region  count of people\n",
       "0  northeast              324\n",
       "1  northwest              325\n",
       "2  southeast              364\n",
       "3  southwest              325"
      ]
     },
     "execution_count": 181,
     "metadata": {},
     "output_type": "execute_result"
    }
   ],
   "source": [
    "# Calculating the average age of active smoker\n",
    "len_region = df.groupby('region')['charges'].size().reset_index(name='count of people')\n",
    "print(\"3. Number of people per region :\")\n",
    "len_region"
   ]
  },
  {
   "cell_type": "code",
   "execution_count": 190,
   "id": "22ba7cdc",
   "metadata": {},
   "outputs": [
    {
     "name": "stdout",
     "output_type": "stream",
     "text": [
      "3. Number of smoker ['yes'] and non-smoker [no]\n",
      "  smoker  # of people\n",
      "0     no         1064\n",
      "1    yes          274\n"
     ]
    }
   ],
   "source": [
    "# Calculating the average age of active smoker\n",
    "len_smoker = df.groupby('smoker').size().reset_index(name='# of people')\n",
    "print(\"4. Number of smoker ['yes'] and non-smoker [no]\")\n",
    "print(len_smoker)"
   ]
  },
  {
   "cell_type": "code",
   "execution_count": 194,
   "id": "769cffb6",
   "metadata": {},
   "outputs": [
    {
     "name": "stdout",
     "output_type": "stream",
     "text": [
      "5. Berapa peluang seseorang tersebut adalah perempuan diketahui dia adalah perokok? 0.212\n"
     ]
    }
   ],
   "source": [
    "p_fe_smoke = len(df[(df['sex']=='female') & (df['smoker']=='yes')])/len(df)\n",
    "print('5. Berapa peluang seseorang tersebut adalah perempuan diketahui dia adalah perokok? '+f'{p_fe_smoke:.3f}')"
   ]
  },
  {
   "cell_type": "code",
   "execution_count": 195,
   "id": "d7dc768e",
   "metadata": {},
   "outputs": [
    {
     "name": "stdout",
     "output_type": "stream",
     "text": [
      "6. Berapa peluang seseorang tersebut adalah laki-laki diketahui dia adalah perokok? 0.119\n"
     ]
    }
   ],
   "source": [
    "p_ma_smoke = len(df[(df['sex']=='male') & (df['smoker']=='yes')])/len(df)\n",
    "print('6. Berapa peluang seseorang tersebut adalah laki-laki diketahui dia adalah perokok? '+f'{p_ma_smoke:.3f}')"
   ]
  },
  {
   "cell_type": "code",
   "execution_count": 206,
   "id": "12b7e384",
   "metadata": {},
   "outputs": [
    {
     "name": "stdout",
     "output_type": "stream",
     "text": [
      "7. Bagaimana bentuk distribusi peluang besar tagihan dari tiap-tiap region?\n"
     ]
    },
    {
     "data": {
      "text/plain": [
       "<seaborn.axisgrid.FacetGrid at 0x7fc118bb11c0>"
      ]
     },
     "execution_count": 206,
     "metadata": {},
     "output_type": "execute_result"
    },
    {
     "data": {
      "image/png": "[encoded data removed]",
      "text/plain": [
       "<Figure size 1440x360 with 4 Axes>"
      ]
     },
     "metadata": {},
     "output_type": "display_data"
    }
   ],
   "source": [
    "print('7. Bagaimana bentuk distribusi peluang besar tagihan dari tiap-tiap region?')\n",
    "sns.displot(df, x=\"charges\", col='region')"
   ]
  },
  {
   "cell_type": "markdown",
   "id": "6fcb2c6a",
   "metadata": {},
   "source": [
    "# 3. Analisa Variable Kontinu"
   ]
  },
  {
   "cell_type": "markdown",
   "id": "b8e59cae",
   "metadata": {},
   "source": [
    "Anda bisa memilih 2 pertanyaan dibawah ini untuk pengecekan\n",
    "kondisi pada data.\n",
    "1. Mana yang lebih mungkin terjadi:<br>\n",
    "a. Seseorang dengan BMI diatas 25 mendapatkan tagihan kesehatan diatas 16.7k, atau <br>\n",
    "b. Seseorang dengan BMI dibawah 25 mendapatkan tagihan kesehatan diatas 16.7k\n",
    "\n",
    "2. Mana yang lebih mungkin terjadi:<br>\n",
    "a. Seseorang perokok dengan BMI diatas 25 mendapatkan tagihan kesehatan diatas 16.7k, atau<br>\n",
    "b. Seseorang non perokok dengan BMI diatas 25 mendapatkan tagihan kesehatan\n",
    "diatas 16.7k"
   ]
  },
  {
   "cell_type": "markdown",
   "id": "b043dcbe",
   "metadata": {},
   "source": [
    "Probability is represented as p with event 1a as p_1a. The same pattern is used for all events"
   ]
  },
  {
   "cell_type": "code",
   "execution_count": 160,
   "id": "26400053",
   "metadata": {},
   "outputs": [
    {
     "name": "stdout",
     "output_type": "stream",
     "text": [
      "It is more possible that someone with a bmi>25 to have charges more than 16.7k [0.212] rather than someone with a bmi<25[0.038]\n"
     ]
    }
   ],
   "source": [
    "p_1a = len(df[(df['bmi']>25) & (df['charges']>16700)])/len(df)\n",
    "p_1b = len(df[(df['bmi']<25) & (df['charges']>16700)])/len(df)\n",
    "print('It is more possible that someone with a bmi>25 to have charges more than 16.7k ['+f'{p_1a:.3f}'\\\n",
    "      +'] rather than someone with a bmi<25['+f'{p_1b:.3f}'+']')"
   ]
  },
  {
   "cell_type": "code",
   "execution_count": 159,
   "id": "a47dda4d",
   "metadata": {},
   "outputs": [
    {
     "name": "stdout",
     "output_type": "stream",
     "text": [
      "It is more possible that a smoker with a bmi<25 to have charges more than 16.7k [0.161] rather than non-smoker with a bmi>25[0.051]\n"
     ]
    }
   ],
   "source": [
    "p_2a = len(df[(df['smoker']=='yes') & (df['bmi']>25) & (df['charges']>16700)])/len(df)\n",
    "p_2b = len(df[(df['smoker']=='no')& (df['bmi']>25) & (df['charges']>16700)])/len(df)\n",
    "print('It is more possible that a smoker with a bmi<25 to have charges more than 16.7k ['+f'{p_2a:.3f}'\\\n",
    "      +'] rather than non-smoker with a bmi>25['+f'{p_2b:.3f}'+']')"
   ]
  },
  {
   "cell_type": "markdown",
   "id": "726c93d3",
   "metadata": {},
   "source": [
    "# 4. Analisa Korelasi Variabel"
   ]
  },
  {
   "cell_type": "code",
   "execution_count": 210,
   "id": "4fa8f11d",
   "metadata": {
    "scrolled": true
   },
   "outputs": [
    {
     "data": {
      "text/html": [
       "<style type=\"text/css\">\n",
       "#T_776b2_row0_col0, #T_776b2_row1_col1, #T_776b2_row2_col2, #T_776b2_row3_col3 {\n",
       "  background-color: #023858;\n",
       "  color: #f1f1f1;\n",
       "}\n",
       "#T_776b2_row0_col1 {\n",
       "  background-color: #f0eaf4;\n",
       "  color: #000000;\n",
       "}\n",
       "#T_776b2_row0_col2 {\n",
       "  background-color: #fbf3f9;\n",
       "  color: #000000;\n",
       "}\n",
       "#T_776b2_row0_col3 {\n",
       "  background-color: #d1d2e6;\n",
       "  color: #000000;\n",
       "}\n",
       "#T_776b2_row1_col0 {\n",
       "  background-color: #f5eef6;\n",
       "  color: #000000;\n",
       "}\n",
       "#T_776b2_row1_col2, #T_776b2_row2_col0, #T_776b2_row2_col1, #T_776b2_row2_col3 {\n",
       "  background-color: #fff7fb;\n",
       "  color: #000000;\n",
       "}\n",
       "#T_776b2_row1_col3 {\n",
       "  background-color: #e9e5f1;\n",
       "  color: #000000;\n",
       "}\n",
       "#T_776b2_row3_col0 {\n",
       "  background-color: #cacee5;\n",
       "  color: #000000;\n",
       "}\n",
       "#T_776b2_row3_col1 {\n",
       "  background-color: #dedcec;\n",
       "  color: #000000;\n",
       "}\n",
       "#T_776b2_row3_col2 {\n",
       "  background-color: #f7f0f7;\n",
       "  color: #000000;\n",
       "}\n",
       "</style>\n",
       "<table id=\"T_776b2_\">\n",
       "  <thead>\n",
       "    <tr>\n",
       "      <th class=\"blank level0\" >&nbsp;</th>\n",
       "      <th class=\"col_heading level0 col0\" >age</th>\n",
       "      <th class=\"col_heading level0 col1\" >bmi</th>\n",
       "      <th class=\"col_heading level0 col2\" >children</th>\n",
       "      <th class=\"col_heading level0 col3\" >charges</th>\n",
       "    </tr>\n",
       "  </thead>\n",
       "  <tbody>\n",
       "    <tr>\n",
       "      <th id=\"T_776b2_level0_row0\" class=\"row_heading level0 row0\" >age</th>\n",
       "      <td id=\"T_776b2_row0_col0\" class=\"data row0 col0\" >1.000000</td>\n",
       "      <td id=\"T_776b2_row0_col1\" class=\"data row0 col1\" >0.109272</td>\n",
       "      <td id=\"T_776b2_row0_col2\" class=\"data row0 col2\" >0.042469</td>\n",
       "      <td id=\"T_776b2_row0_col3\" class=\"data row0 col3\" >0.299008</td>\n",
       "    </tr>\n",
       "    <tr>\n",
       "      <th id=\"T_776b2_level0_row1\" class=\"row_heading level0 row1\" >bmi</th>\n",
       "      <td id=\"T_776b2_row1_col0\" class=\"data row1 col0\" >0.109272</td>\n",
       "      <td id=\"T_776b2_row1_col1\" class=\"data row1 col1\" >1.000000</td>\n",
       "      <td id=\"T_776b2_row1_col2\" class=\"data row1 col2\" >0.012759</td>\n",
       "      <td id=\"T_776b2_row1_col3\" class=\"data row1 col3\" >0.198341</td>\n",
       "    </tr>\n",
       "    <tr>\n",
       "      <th id=\"T_776b2_level0_row2\" class=\"row_heading level0 row2\" >children</th>\n",
       "      <td id=\"T_776b2_row2_col0\" class=\"data row2 col0\" >0.042469</td>\n",
       "      <td id=\"T_776b2_row2_col1\" class=\"data row2 col1\" >0.012759</td>\n",
       "      <td id=\"T_776b2_row2_col2\" class=\"data row2 col2\" >1.000000</td>\n",
       "      <td id=\"T_776b2_row2_col3\" class=\"data row2 col3\" >0.067998</td>\n",
       "    </tr>\n",
       "    <tr>\n",
       "      <th id=\"T_776b2_level0_row3\" class=\"row_heading level0 row3\" >charges</th>\n",
       "      <td id=\"T_776b2_row3_col0\" class=\"data row3 col0\" >0.299008</td>\n",
       "      <td id=\"T_776b2_row3_col1\" class=\"data row3 col1\" >0.198341</td>\n",
       "      <td id=\"T_776b2_row3_col2\" class=\"data row3 col2\" >0.067998</td>\n",
       "      <td id=\"T_776b2_row3_col3\" class=\"data row3 col3\" >1.000000</td>\n",
       "    </tr>\n",
       "  </tbody>\n",
       "</table>\n"
      ],
      "text/plain": [
       "<pandas.io.formats.style.Styler at 0x7fc159803d90>"
      ]
     },
     "execution_count": 210,
     "metadata": {},
     "output_type": "execute_result"
    }
   ],
   "source": [
    "corr = df.corr()\n",
    "corr.style.background_gradient()"
   ]
  },
  {
   "cell_type": "markdown",
   "id": "78649ddd",
   "metadata": {},
   "source": [
    "# 5. Hypothesis testing"
   ]
  },
  {
   "cell_type": "markdown",
   "id": "65c3684b",
   "metadata": {},
   "source": [
    "Three out of five hypothesis is tested using ttest. The hypothesis are:\n",
    "1. Charges for smoker is higher than non-smoker\n",
    "2. Proportion of smoker is higher in men than women\n",
    "3. Charges variances is same between smoker and non-smoker\n",
    "4. Charges for BMI>25 is higher than Charges for BMI<25\n",
    "5. Charges for men is higher than women"
   ]
  },
  {
   "cell_type": "markdown",
   "id": "09aa22ad",
   "metadata": {},
   "source": [
    "# Question 1: Charges for smoker are higher than non-smoker"
   ]
  },
  {
   "cell_type": "markdown",
   "id": "830e971e",
   "metadata": {},
   "source": [
    "$$ \\mu_1 = \\text{Charges for smoker} $$\n",
    "$$ \\mu_2 = \\text{Charges for non-smoker}$$\n",
    "$$H_0: \\mu_1 \\leq  \\mu_2 \\text{ Charges for smoker is less than or equal to non-smoker}$$\n",
    "$$H_1: \\mu_1 >  \\mu_2 \\text{ Charges for smoker is higher than non-smoker}$$"
   ]
  },
  {
   "cell_type": "markdown",
   "id": "e00f4648",
   "metadata": {},
   "source": [
    "Since the variance and size is of smoker and non smoker is different we would use the welch ttest rather than the usual student ttest"
   ]
  },
  {
   "cell_type": "code",
   "execution_count": 88,
   "id": "db82bbc5",
   "metadata": {},
   "outputs": [
    {
     "data": {
      "text/plain": [
       "no     1064\n",
       "yes     274\n",
       "Name: smoker, dtype: int64"
      ]
     },
     "execution_count": 88,
     "metadata": {},
     "output_type": "execute_result"
    }
   ],
   "source": [
    "df['smoker'].value_counts()"
   ]
  },
  {
   "cell_type": "markdown",
   "id": "02c9d4ec",
   "metadata": {},
   "source": [
    "The hypothesis test are done using T-test considering that the standard deviation to the population are not known and only the samples are given in a form of a dataset. \n",
    "Understanding the number of samples are not equal between smoker and non-smoker, Welcht T-Test rather than the usual Student T-Test."
   ]
  },
  {
   "cell_type": "code",
   "execution_count": 89,
   "id": "49303707",
   "metadata": {},
   "outputs": [
    {
     "name": "stdout",
     "output_type": "stream",
     "text": [
      "P-value =2.94473222335849e-103\n"
     ]
    }
   ],
   "source": [
    "alpha=0.05\n",
    "t, p = stat.ttest_ind(df_active['charges'], df_inactive['charges'], equal_var=False, alternative=\"greater\")\n",
    "print(\"P-value =\" + str(p))"
   ]
  },
  {
   "cell_type": "code",
   "execution_count": 90,
   "id": "2d7cce6f",
   "metadata": {},
   "outputs": [
    {
     "data": {
      "image/png": "[encoded data removed]",
      "text/plain": [
       "<Figure size 864x432 with 1 Axes>"
      ]
     },
     "metadata": {},
     "output_type": "display_data"
    }
   ],
   "source": [
    "sns.boxplot(x=\"smoker\", y=\"charges\", data=df)\n",
    "plt.grid()\n",
    "plt.show()"
   ]
  },
  {
   "cell_type": "code",
   "execution_count": 91,
   "id": "79825f59",
   "metadata": {
    "scrolled": true
   },
   "outputs": [
    {
     "name": "stdout",
     "output_type": "stream",
     "text": [
      "P-value is less than alpha\n",
      "2.94473222335849e-103 < 0.05\n",
      "Null hypothesis is rejected\n"
     ]
    }
   ],
   "source": [
    "if p <alpha :\n",
    "    print(\"P-value is less than alpha\")\n",
    "    print(str(p)+\" < \"+ str(alpha))\n",
    "    print(\"Null hypothesis is rejected\")\n",
    "    \n",
    "else:\n",
    "    print(\"P-value is greater than alpha\")\n",
    "    print(str(p)+\" > \"+ str(alpha))\n",
    "    print(\"Null hypothesis is accepted\")"
   ]
  },
  {
   "cell_type": "markdown",
   "id": "2ee535e2",
   "metadata": {},
   "source": [
    "**Conclusion: Charges for smoker are higher than non-smoker**"
   ]
  },
  {
   "cell_type": "markdown",
   "id": "4e7728a7",
   "metadata": {},
   "source": [
    "# Question 4 Charges for those with BMI>25 are higher than charges with BMI<25"
   ]
  },
  {
   "cell_type": "markdown",
   "id": "7942658e",
   "metadata": {},
   "source": [
    "$$ \\mu_1 = \\text{Charges for bmi higher than 25} $$\n",
    "$$ \\mu_2 = \\text{Charges for bmi less than 25}$$\n",
    "$$H_0: \\mu_1 \\leq  \\mu_2 \\text{ Charges for those with BMI>25 is less or equal than charges with BMI<25}$$\n",
    "$$H_1: \\mu_1 >  \\mu_2 \\text{ Charges for those with BMI>25 is higher than charges with BMI<25}$$"
   ]
  },
  {
   "cell_type": "code",
   "execution_count": 81,
   "id": "e7672ec8",
   "metadata": {},
   "outputs": [],
   "source": [
    "df_bmi = df.copy()\n",
    "df_bmi['bmi_check'] = df['bmi']>25"
   ]
  },
  {
   "cell_type": "code",
   "execution_count": 93,
   "id": "aee08973",
   "metadata": {},
   "outputs": [
    {
     "data": {
      "text/plain": [
       "True     1091\n",
       "False     247\n",
       "Name: bmi_check, dtype: int64"
      ]
     },
     "execution_count": 93,
     "metadata": {},
     "output_type": "execute_result"
    }
   ],
   "source": [
    "df_bmi['bmi_check'].value_counts()"
   ]
  },
  {
   "cell_type": "markdown",
   "id": "a2f8a8d2",
   "metadata": {},
   "source": [
    "The hypothesis test are done using T-test considering that the standard deviation to the population are not known and only the samples are given in a form of a dataset. \n",
    "Understanding the number of samples are not equal, Welcht T-Test rather than the usual Student T-Test."
   ]
  },
  {
   "cell_type": "code",
   "execution_count": 79,
   "id": "ab146e78",
   "metadata": {},
   "outputs": [],
   "source": [
    "df_bmi25 = df[df['bmi']>=25]\n",
    "df_lessbmi25 = df[df['bmi']<25]"
   ]
  },
  {
   "cell_type": "code",
   "execution_count": 80,
   "id": "650582d9",
   "metadata": {},
   "outputs": [
    {
     "name": "stdout",
     "output_type": "stream",
     "text": [
      "P-value =2.633329709073052e-09\n"
     ]
    }
   ],
   "source": [
    "alpha=0.05\n",
    "t, p = stat.ttest_ind(df_bmi25['charges'], df_lessbmi25['charges'], equal_var=False, alternative=\"greater\")\n",
    "print(\"P-value =\" + str(p))"
   ]
  },
  {
   "cell_type": "code",
   "execution_count": 82,
   "id": "a1cd2fe8",
   "metadata": {},
   "outputs": [
    {
     "data": {
      "image/png": "[encoded data removed]",
      "text/plain": [
       "<Figure size 864x432 with 1 Axes>"
      ]
     },
     "metadata": {},
     "output_type": "display_data"
    }
   ],
   "source": [
    "sns.boxplot(x=\"bmi_check\", y=\"charges\", data=df_bmi)\n",
    "plt.grid()\n",
    "plt.show()"
   ]
  },
  {
   "cell_type": "code",
   "execution_count": 83,
   "id": "9496fc2e",
   "metadata": {},
   "outputs": [
    {
     "name": "stdout",
     "output_type": "stream",
     "text": [
      "P-value is less than alpha\n",
      "2.633329709073052e-09 < 0.05\n",
      "Null hypothesis is rejected\n"
     ]
    }
   ],
   "source": [
    "if p <alpha :\n",
    "    print(\"P-value is less than alpha\")\n",
    "    print(str(p)+\" < \"+ str(alpha))\n",
    "    print(\"Null hypothesis is rejected\")\n",
    "    \n",
    "else:\n",
    "    print(\"P-value is greater than alpha\")\n",
    "    print(str(p)+\" > \"+ str(alpha))\n",
    "    print(\"Null hypothesis is accepted\")"
   ]
  },
  {
   "cell_type": "markdown",
   "id": "3110cd21",
   "metadata": {},
   "source": [
    "**Conclusion: Charges for those with BMI>25 are higher than BMI<25**"
   ]
  },
  {
   "cell_type": "markdown",
   "id": "94b385d8",
   "metadata": {},
   "source": [
    "# Question 5: Charges for men are higher than women"
   ]
  },
  {
   "cell_type": "markdown",
   "id": "efe753a5",
   "metadata": {},
   "source": [
    "$$ \\mu_1 = \\text{Charges for men} $$\n",
    "$$ \\mu_2 = \\text{Charges forwomen}$$\n",
    "$$H_0: \\mu_1 \\leq  \\mu_2 \\text{ Charges for men less or equal than charges for women}$$\n",
    "$$H_1: \\mu_1 >  \\mu_2 \\text{ Charges for men is higher than charges for women}$$"
   ]
  },
  {
   "cell_type": "code",
   "execution_count": 84,
   "id": "37d0e45a",
   "metadata": {},
   "outputs": [],
   "source": [
    "df_male = df[df['sex']=='male']\n",
    "df_female = df[df['sex']=='female']"
   ]
  },
  {
   "cell_type": "code",
   "execution_count": 94,
   "id": "f9e48f00",
   "metadata": {},
   "outputs": [
    {
     "data": {
      "text/plain": [
       "male      676\n",
       "female    662\n",
       "Name: sex, dtype: int64"
      ]
     },
     "execution_count": 94,
     "metadata": {},
     "output_type": "execute_result"
    }
   ],
   "source": [
    "df['sex'].value_counts()"
   ]
  },
  {
   "cell_type": "markdown",
   "id": "bbb86e24",
   "metadata": {},
   "source": [
    "The hypothesis test are done using T-test considering that the standard deviation to the population are not known and only the samples are given in a form of a dataset. \n",
    "Understanding the number of samples are not equal, Welcht T-Test rather than the usual Student T-Test."
   ]
  },
  {
   "cell_type": "code",
   "execution_count": 85,
   "id": "01e6ab55",
   "metadata": {},
   "outputs": [
    {
     "data": {
      "image/png": "[encoded data removed]",
      "text/plain": [
       "<Figure size 864x432 with 1 Axes>"
      ]
     },
     "metadata": {},
     "output_type": "display_data"
    }
   ],
   "source": [
    "sns.boxplot(x=\"sex\", y=\"charges\", data=df)\n",
    "plt.grid()\n",
    "plt.show()"
   ]
  },
  {
   "cell_type": "code",
   "execution_count": 97,
   "id": "092a2a72",
   "metadata": {},
   "outputs": [
    {
     "name": "stdout",
     "output_type": "stream",
     "text": [
      "P-value =0.035841014956016645\n"
     ]
    }
   ],
   "source": [
    "alpha=0.05\n",
    "t, p = stat.ttest_ind(df_male['charges'], df_female['charges'], equal_var=False)\n",
    "print(\"P-value =\" + str(p))"
   ]
  },
  {
   "cell_type": "code",
   "execution_count": 98,
   "id": "bdf1c3fd",
   "metadata": {},
   "outputs": [
    {
     "name": "stdout",
     "output_type": "stream",
     "text": [
      "P-value is less than alpha\n",
      "0.035841014956016645 < 0.05\n",
      "Null hypothesis is rejected\n"
     ]
    }
   ],
   "source": [
    "if p <alpha :\n",
    "    print(\"P-value is less than alpha\")\n",
    "    print(str(p)+\" < \"+ str(alpha))\n",
    "    print(\"Null hypothesis is rejected\")\n",
    "    \n",
    "else:\n",
    "    print(\"P-value is greater than alpha\")\n",
    "    print(str(p)+\" > \"+ str(alpha))\n",
    "    print(\"Null hypothesis is accepted\")"
   ]
  },
  {
   "cell_type": "markdown",
   "id": "babb6531",
   "metadata": {},
   "source": [
    "**Conclusion: Charges for men are higher than women**"
   ]
  }
 ],
 "metadata": {
  "kernelspec": {
   "display_name": "Python 3 (ipykernel)",
   "language": "python",
   "name": "python3"
  },
  "language_info": {
   "codemirror_mode": {
    "name": "ipython",
    "version": 3
   },
   "file_extension": ".py",
   "mimetype": "text/x-python",
   "name": "python",
   "nbconvert_exporter": "python",
   "pygments_lexer": "ipython3",
   "version": "3.9.7"
  }
 },
 "nbformat": 4,
 "nbformat_minor": 5
}
